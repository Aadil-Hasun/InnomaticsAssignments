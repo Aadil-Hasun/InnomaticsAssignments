{
 "cells": [
  {
   "cell_type": "markdown",
   "id": "afbfb9e4",
   "metadata": {},
   "source": [
    "# Programming_Task_4(Advanced)"
   ]
  },
  {
   "cell_type": "markdown",
   "id": "d943d123",
   "metadata": {},
   "source": [
    "### Single Number"
   ]
  },
  {
   "cell_type": "code",
   "execution_count": 2,
   "id": "e2aa1140",
   "metadata": {},
   "outputs": [],
   "source": [
    "class Solution:\n",
    "    def singleNumber(self, nums: list[int]) -> int:\n",
    "        output = 0\n",
    "        for element in nums:\n",
    "            output ^= element\n",
    "        \n",
    "        return output"
   ]
  },
  {
   "cell_type": "code",
   "execution_count": 3,
   "id": "fab9f724",
   "metadata": {},
   "outputs": [
    {
     "data": {
      "text/plain": [
       "4"
      ]
     },
     "execution_count": 3,
     "metadata": {},
     "output_type": "execute_result"
    }
   ],
   "source": [
    "sol = Solution()\n",
    "sol.singleNumber([4,1,2,1,2])"
   ]
  },
  {
   "cell_type": "markdown",
   "id": "31e0db70",
   "metadata": {},
   "source": [
    "### Sort Integers by The Number of 1 Bits"
   ]
  },
  {
   "cell_type": "code",
   "execution_count": 5,
   "id": "a0ac347e",
   "metadata": {},
   "outputs": [],
   "source": [
    "class Solution:\n",
    "    def sortByBits(self, arr: list[int]) -> list[int]:\n",
    "        sorted_arr = sorted(arr, key=lambda x: [bin(x).count('1'), x])\n",
    "        return sorted_arr"
   ]
  },
  {
   "cell_type": "code",
   "execution_count": 6,
   "id": "c12e3d04",
   "metadata": {},
   "outputs": [
    {
     "data": {
      "text/plain": [
       "[0, 1, 2, 4, 8, 3, 5, 6, 7]"
      ]
     },
     "execution_count": 6,
     "metadata": {},
     "output_type": "execute_result"
    }
   ],
   "source": [
    "sol = Solution()\n",
    "sol.sortByBits([0,1,2,3,4,5,6,7,8])"
   ]
  },
  {
   "cell_type": "markdown",
   "id": "8ae899d2",
   "metadata": {},
   "source": [
    "### Single Number III"
   ]
  },
  {
   "cell_type": "code",
   "execution_count": 8,
   "id": "2d1f9726",
   "metadata": {},
   "outputs": [],
   "source": [
    "class Solution:\n",
    "    def singleNumber(self, nums: list[int]) -> list[int]:\n",
    "        xor = 0\n",
    "        for num in nums:\n",
    "            xor ^= num\n",
    "        xor_bit = xor & -xor\n",
    "        num1, num2 = 0, 0\n",
    "        for num in nums:\n",
    "            if num & xor_bit:\n",
    "                num1 ^= num\n",
    "            else:\n",
    "                num2 ^= num\n",
    "        return [num1,  num2]"
   ]
  },
  {
   "cell_type": "code",
   "execution_count": 9,
   "id": "0c8d7ed1",
   "metadata": {},
   "outputs": [
    {
     "data": {
      "text/plain": [
       "[3, 5]"
      ]
     },
     "execution_count": 9,
     "metadata": {},
     "output_type": "execute_result"
    }
   ],
   "source": [
    "sol = Solution()\n",
    "sol.singleNumber([1,2,1,3,2,5])"
   ]
  },
  {
   "cell_type": "markdown",
   "id": "7da9ea22",
   "metadata": {},
   "source": [
    "###  Subsets"
   ]
  },
  {
   "cell_type": "code",
   "execution_count": 10,
   "id": "b10a9e30",
   "metadata": {},
   "outputs": [],
   "source": [
    "class Solution:\n",
    "    def get_power_set(self, nums)-> list[list[int]]:\n",
    "        power_set = [[]]\n",
    "        for num in nums:\n",
    "            temp = [subset + [num] for subset in power_set]\n",
    "            power_set.extend(temp)\n",
    "        return power_set\n",
    "\n",
    "    def subsets(self, nums: list[int]) -> list[list[int]]:\n",
    "        power_set = self.get_power_set(nums)\n",
    "        return power_set"
   ]
  },
  {
   "cell_type": "code",
   "execution_count": 11,
   "id": "0ece7784",
   "metadata": {},
   "outputs": [
    {
     "data": {
      "text/plain": [
       "[[], [1], [2], [1, 2], [3], [1, 3], [2, 3], [1, 2, 3]]"
      ]
     },
     "execution_count": 11,
     "metadata": {},
     "output_type": "execute_result"
    }
   ],
   "source": [
    "sol = Solution()\n",
    "sol.subsets([1,2,3])"
   ]
  },
  {
   "cell_type": "code",
   "execution_count": null,
   "id": "b40514b6",
   "metadata": {},
   "outputs": [],
   "source": []
  }
 ],
 "metadata": {
  "kernelspec": {
   "display_name": "Python 3 (ipykernel)",
   "language": "python",
   "name": "python3"
  },
  "language_info": {
   "codemirror_mode": {
    "name": "ipython",
    "version": 3
   },
   "file_extension": ".py",
   "mimetype": "text/x-python",
   "name": "python",
   "nbconvert_exporter": "python",
   "pygments_lexer": "ipython3",
   "version": "3.9.13"
  }
 },
 "nbformat": 4,
 "nbformat_minor": 5
}
