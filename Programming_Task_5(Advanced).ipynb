{
 "cells": [
  {
   "cell_type": "markdown",
   "id": "4197fcfa",
   "metadata": {},
   "source": [
    "# Programming_Task_5(Advanced)"
   ]
  },
  {
   "cell_type": "markdown",
   "id": "5bf91429",
   "metadata": {},
   "source": [
    "### Subsets"
   ]
  },
  {
   "cell_type": "code",
   "execution_count": 2,
   "id": "d67d6f22",
   "metadata": {},
   "outputs": [],
   "source": [
    "class Solution:\n",
    "    def get_power_set(self, nums)-> list[list[int]]:\n",
    "        power_set = [[]]\n",
    "        for num in nums:\n",
    "            temp = [subset + [num] for subset in power_set]\n",
    "            power_set.extend(temp)\n",
    "        return power_set\n",
    "\n",
    "    def subsets(self, nums: list[int]) -> list[list[int]]:\n",
    "        power_set = self.get_power_set(nums)\n",
    "        return power_set\n",
    "                    "
   ]
  },
  {
   "cell_type": "code",
   "execution_count": 3,
   "id": "8b3a95ec",
   "metadata": {},
   "outputs": [
    {
     "data": {
      "text/plain": [
       "[[], [1], [2], [1, 2], [3], [1, 3], [2, 3], [1, 2, 3]]"
      ]
     },
     "execution_count": 3,
     "metadata": {},
     "output_type": "execute_result"
    }
   ],
   "source": [
    "sol = Solution()\n",
    "sol.subsets([1,2,3])"
   ]
  },
  {
   "cell_type": "markdown",
   "id": "46215193",
   "metadata": {},
   "source": [
    "### Single Number III"
   ]
  },
  {
   "cell_type": "code",
   "execution_count": 4,
   "id": "085456ca",
   "metadata": {},
   "outputs": [],
   "source": [
    "class Solution:\n",
    "    def singleNumber(self, nums: list[int]) -> int:\n",
    "        sum_of_nums_set = sum(set(nums))\n",
    "        sum_of_nums = sum(nums)\n",
    "        output = (3*sum_of_nums_set - sum_of_nums)/2\n",
    "        return int(output)"
   ]
  },
  {
   "cell_type": "code",
   "execution_count": 5,
   "id": "fd638fc5",
   "metadata": {},
   "outputs": [
    {
     "data": {
      "text/plain": [
       "500"
      ]
     },
     "execution_count": 5,
     "metadata": {},
     "output_type": "execute_result"
    }
   ],
   "source": [
    "sol = Solution()\n",
    "sol.singleNumber([30000, 500, 100, 30000, 100, 30000, 100])"
   ]
  },
  {
   "cell_type": "markdown",
   "id": "57f4b204",
   "metadata": {},
   "source": [
    "### Hamming Distance"
   ]
  },
  {
   "cell_type": "code",
   "execution_count": 6,
   "id": "9ba70358",
   "metadata": {},
   "outputs": [],
   "source": [
    "class Solution:\n",
    "    def hammingDistance(self, x: int, y: int) -> int:\n",
    "        temp = x^y\n",
    "        hamming_dist = str(bin(temp)).count('1')\n",
    "        return hamming_dist"
   ]
  },
  {
   "cell_type": "code",
   "execution_count": 7,
   "id": "f572750f",
   "metadata": {},
   "outputs": [
    {
     "data": {
      "text/plain": [
       "2"
      ]
     },
     "execution_count": 7,
     "metadata": {},
     "output_type": "execute_result"
    }
   ],
   "source": [
    "sol = Solution()\n",
    "sol.hammingDistance(1, 4)"
   ]
  },
  {
   "cell_type": "code",
   "execution_count": null,
   "id": "df0a64c6",
   "metadata": {},
   "outputs": [],
   "source": []
  }
 ],
 "metadata": {
  "kernelspec": {
   "display_name": "Python 3 (ipykernel)",
   "language": "python",
   "name": "python3"
  },
  "language_info": {
   "codemirror_mode": {
    "name": "ipython",
    "version": 3
   },
   "file_extension": ".py",
   "mimetype": "text/x-python",
   "name": "python",
   "nbconvert_exporter": "python",
   "pygments_lexer": "ipython3",
   "version": "3.9.13"
  }
 },
 "nbformat": 4,
 "nbformat_minor": 5
}
