{
 "cells": [
  {
   "cell_type": "markdown",
   "id": "b6a9d379",
   "metadata": {},
   "source": [
    "# Programming Task 2 (Data Types)"
   ]
  },
  {
   "cell_type": "markdown",
   "id": "e9c25f39",
   "metadata": {},
   "source": [
    "### 1. Nested Lists"
   ]
  },
  {
   "cell_type": "code",
   "execution_count": 2,
   "id": "69ffaa01",
   "metadata": {},
   "outputs": [
    {
     "name": "stdout",
     "output_type": "stream",
     "text": [
      "4\n",
      "Harry\n",
      "44.2\n",
      "Sharmeela\n",
      "41.0\n",
      "John\n",
      "55.34\n",
      "Aadil\n",
      "44.2\n",
      "Aadil\n",
      "Harry\n"
     ]
    }
   ],
   "source": [
    "#store the student records in a list\n",
    "student_lst = []\n",
    "for _ in range(int(input())):\n",
    "    name = input()\n",
    "    score = float(input())\n",
    "    student = [name, score]\n",
    "    student_lst.append(student)\n",
    "# Get the record with the second lowest score \n",
    "lowest_score = max(student_lst, key=lambda s: s[1])\n",
    "second_lowest_score = max(student_lst, key=lambda s: s[1])\n",
    "for index in range(len(student_lst)):\n",
    "    if student_lst[index][1] < lowest_score[1]:\n",
    "        lowest_score, second_lowest_score = student_lst[index], lowest_score\n",
    "    elif (student_lst[index][1] > lowest_score[1]) and (student_lst[index][1] < second_lowest_score[1]):\n",
    "        second_lowest_score = student_lst[index]\n",
    "\n",
    "#Find all students with the second lowest score\n",
    "result = []\n",
    "for i in range(len(student_lst)):\n",
    "    if student_lst[i][1] == second_lowest_score[1]:\n",
    "        result.append(student_lst[i])\n",
    "    else:\n",
    "        continue\n",
    "#Sort the list of students with second lowest score\n",
    "result = sorted(result)\n",
    "#Print the result\n",
    "for i in result:\n",
    "    print(i[0])"
   ]
  },
  {
   "cell_type": "markdown",
   "id": "f2e2cae3",
   "metadata": {},
   "source": [
    "### 2. Introduction of Sets"
   ]
  },
  {
   "cell_type": "code",
   "execution_count": 6,
   "id": "6b0c22fd",
   "metadata": {},
   "outputs": [],
   "source": [
    "def average(array):\n",
    "    distinct_heights = set(array)\n",
    "    sum_of_distinct_heights, avg_of_distinct_heights = 0, 0\n",
    "    for height in distinct_heights:\n",
    "        sum_of_distinct_heights += height\n",
    "    avg_of_distinct_heights = sum_of_distinct_heights/len(distinct_heights)\n",
    "    return avg_of_distinct_heights"
   ]
  },
  {
   "cell_type": "code",
   "execution_count": 7,
   "id": "9dce8e06",
   "metadata": {},
   "outputs": [
    {
     "name": "stdout",
     "output_type": "stream",
     "text": [
      "10\n",
      "161 182 161 154 176 170 167 171 170 174\n",
      "169.375\n"
     ]
    }
   ],
   "source": [
    "n = int(input())\n",
    "arr = list(map(int, input().split()))\n",
    "result = average(arr)\n",
    "print(result)"
   ]
  },
  {
   "cell_type": "markdown",
   "id": "dbb91584",
   "metadata": {},
   "source": [
    "### 3. Symmetric Difference\n",
    "#### Output the symmetric difference integers in ascending order, one per line."
   ]
  },
  {
   "cell_type": "code",
   "execution_count": 8,
   "id": "ebe43b2e",
   "metadata": {},
   "outputs": [
    {
     "name": "stdout",
     "output_type": "stream",
     "text": [
      "4\n",
      "2 4 5 9\n",
      "4\n",
      "2 4 11 -10\n",
      "-10\n",
      "5\n",
      "9\n",
      "11\n"
     ]
    }
   ],
   "source": [
    "m = int(input())\n",
    "set_m = set(map(int,input().split()))\n",
    "n = int(input())\n",
    "set_n = set(map(int,input().split()))\n",
    "set_difference = list(set_m.symmetric_difference(set_n))\n",
    "set_difference = sorted(set_difference)\n",
    "for element in set_difference:\n",
    "    print(element)\n"
   ]
  },
  {
   "cell_type": "markdown",
   "id": "44ef4b54",
   "metadata": {},
   "source": [
    "### 4. Set .discard(), .remove() & .pop()\n",
    "#### You have a non-empty set s , and you have to execute N commands given in N lines.\n",
    "#### After that, Print the sum of the elements of set  on a single line."
   ]
  },
  {
   "cell_type": "code",
   "execution_count": 9,
   "id": "36852b7f",
   "metadata": {},
   "outputs": [
    {
     "name": "stdout",
     "output_type": "stream",
     "text": [
      "9\n",
      "1 2 3 4 5 6 7 8 9\n",
      "10\n",
      "pop\n",
      "remove 9\n",
      "discard 9\n",
      "discard 8\n",
      "remove 7\n",
      "pop\n",
      "discard 6\n",
      "remove 5\n",
      "pop\n",
      "discard 5\n",
      "4\n"
     ]
    }
   ],
   "source": [
    "num_of_elements = int(input())\n",
    "s = set(map(int, input().split()))\n",
    "num_of_operations = int(input())\n",
    "for _ in range(num_of_operations):\n",
    "    operation = list(map(str, input().split()))\n",
    "    \n",
    "    if operation[0] == 'pop':\n",
    "        temp = s.pop()\n",
    "    elif operation[0] == 'remove':\n",
    "        try:\n",
    "            s.remove(int(operation[1]))\n",
    "        except:\n",
    "            print(\"KeyError: Element doesn't exist\")\n",
    "    elif operation[0] == 'discard':\n",
    "        s.discard(int(operation[1]))\n",
    "sum_of_elements = 0\n",
    "for element in s:\n",
    "    sum_of_elements += element\n",
    "print(sum_of_elements)"
   ]
  },
  {
   "cell_type": "markdown",
   "id": "c89dfaf6",
   "metadata": {},
   "source": [
    "### 5. Set .union() Operation"
   ]
  },
  {
   "cell_type": "code",
   "execution_count": 10,
   "id": "ed18bfa8",
   "metadata": {},
   "outputs": [
    {
     "name": "stdout",
     "output_type": "stream",
     "text": [
      "9\n",
      "1 2 3 4 5 6 7 8 9\n",
      "9\n",
      "10 1 2 3 11 21 55 6 8\n",
      "13\n"
     ]
    }
   ],
   "source": [
    "sub_for_eng_news = int(input())\n",
    "students_eng_news = set(map(int, input().split()))\n",
    "sub_for_fr_news = int(input())\n",
    "students_fr_news = set(map(int, input().split()))\n",
    "eng_news_union_fr_news = students_eng_news.union(students_fr_news)\n",
    "students_atleast_one_sub = len(eng_news_union_fr_news)\n",
    "print(students_atleast_one_sub)\n"
   ]
  },
  {
   "cell_type": "markdown",
   "id": "ab2579be",
   "metadata": {},
   "source": [
    "### 6. Set .intersection Operation"
   ]
  },
  {
   "cell_type": "code",
   "execution_count": 11,
   "id": "c187bdf1",
   "metadata": {},
   "outputs": [
    {
     "name": "stdout",
     "output_type": "stream",
     "text": [
      "9\n",
      "1 2 3 4 5 6 7 8 9\n",
      "9\n",
      "10 1 2 3 11 21 55 6 8\n",
      "5\n"
     ]
    }
   ],
   "source": [
    "sub_for_eng_news = int(input())\n",
    "students_eng_news = set(map(int, input().split()))\n",
    "sub_for_fr_news = int(input())\n",
    "students_fr_news = set(map(int, input().split()))\n",
    "eng_news_intersection_fr_news = students_eng_news.intersection(students_fr_news)\n",
    "students_atleast_one_sub = len(eng_news_intersection_fr_news)\n",
    "print(students_atleast_one_sub)\n"
   ]
  },
  {
   "cell_type": "markdown",
   "id": "72df9b9e",
   "metadata": {},
   "source": [
    "### 7. Set .difference() Operation"
   ]
  },
  {
   "cell_type": "code",
   "execution_count": 12,
   "id": "a07eb47b",
   "metadata": {},
   "outputs": [
    {
     "name": "stdout",
     "output_type": "stream",
     "text": [
      "9\n",
      "1 2 3 4 5 6 7 8 9\n",
      "9\n",
      "10 1 2 3 11 21 55 6 8\n",
      "4\n"
     ]
    }
   ],
   "source": [
    "sub_for_eng_news = int(input())\n",
    "students_eng_news = set(map(int, input().split()))\n",
    "sub_for_fr_news = int(input())\n",
    "students_fr_news = set(map(int, input().split()))\n",
    "eng_news_only = students_eng_news.difference(students_fr_news)\n",
    "students_eng_only = len(eng_news_only)\n",
    "print(students_eng_only)"
   ]
  },
  {
   "cell_type": "markdown",
   "id": "da8f850c",
   "metadata": {},
   "source": [
    "### 8. Set Mutations"
   ]
  },
  {
   "cell_type": "code",
   "execution_count": 13,
   "id": "67e3cc1d",
   "metadata": {},
   "outputs": [
    {
     "name": "stdout",
     "output_type": "stream",
     "text": [
      "16\n",
      "1 2 3 4 5 6 7 8 9 10 11 12 13 14 24 52\n",
      "2\n",
      "intersection_update 10\n",
      "2 3 5 6 8 9 1 4 7 11\n",
      "symmetric_difference_update 5\n",
      "22 7 35 62 58\n",
      "226\n"
     ]
    }
   ],
   "source": [
    "num_of_elements_A = int(input())\n",
    "set_A = set(map(int,input().split()))\n",
    "num_of_other_sets = int(input())\n",
    "for _ in range(num_of_other_sets):\n",
    "    lst = list(map(str, input().split()))\n",
    "    other_set = set(map(int,input().split()))\n",
    "    if lst[0] == 'update':\n",
    "        set_A.update(other_set)\n",
    "    elif lst[0] == 'intersection_update':\n",
    "        set_A.intersection_update(other_set)\n",
    "    elif lst[0] == 'difference_update':\n",
    "        set_A.difference_update(other_set)\n",
    "    elif lst[0] == 'symmetric_difference_update':\n",
    "        set_A.symmetric_difference_update(other_set)\n",
    "    else:\n",
    "        continue\n",
    "sum_of_setA = 0   \n",
    "for element in set_A:\n",
    "    sum_of_setA += element\n",
    "print(sum_of_setA)"
   ]
  },
  {
   "cell_type": "markdown",
   "id": "f645f459",
   "metadata": {},
   "source": [
    "### 9. The Captain's Room"
   ]
  },
  {
   "cell_type": "code",
   "execution_count": 14,
   "id": "3eb91b72",
   "metadata": {},
   "outputs": [
    {
     "name": "stdout",
     "output_type": "stream",
     "text": [
      "5\n",
      "1 2 3 6 5 4 4 2 5 3 6 1 6 5 3 2 4 1 2 5 1 4 3 6 8 4 3 1 5 6 2 \n",
      "8\n"
     ]
    }
   ],
   "source": [
    "K = int(input())\n",
    "lst_of_rooms = list(map(int, input().split()))\n",
    "lst_of_rooms = sorted(lst_of_rooms)\n",
    "index = 0\n",
    "while index<len(lst_of_rooms)-1:\n",
    "    if lst_of_rooms[index] == lst_of_rooms[index+1]:\n",
    "        index += K\n",
    "    else:\n",
    "        break\n",
    "print(lst_of_rooms[index])    \n",
    "    "
   ]
  },
  {
   "cell_type": "markdown",
   "id": "67054759",
   "metadata": {},
   "source": [
    "### 10. Check subset"
   ]
  },
  {
   "cell_type": "code",
   "execution_count": 15,
   "id": "3b7d7bb3",
   "metadata": {},
   "outputs": [
    {
     "name": "stdout",
     "output_type": "stream",
     "text": [
      "1\n",
      "5\n",
      "1 2 3 5 6\n",
      "9\n",
      "9 8 5 6 3 2 1 4 7\n",
      "True\n"
     ]
    }
   ],
   "source": [
    "for _ in range(int(input())):\n",
    "    n = int(input())\n",
    "    set_A = set(map(int, input().split()))\n",
    "    m = int(input())\n",
    "    set_B = set(map(int, input().split()))\n",
    "    if set_B.difference(set_A).union(set_A) == set_B:\n",
    "        print(\"True\")\n",
    "    else:\n",
    "        print(\"False\")"
   ]
  },
  {
   "cell_type": "markdown",
   "id": "360dba81",
   "metadata": {},
   "source": [
    "### 11. Check Strict Superset"
   ]
  },
  {
   "cell_type": "code",
   "execution_count": 16,
   "id": "45ef4bed",
   "metadata": {},
   "outputs": [
    {
     "name": "stdout",
     "output_type": "stream",
     "text": [
      "1 2 3 4 5 6 7 8 9 10 11 12 23 45 84 78\n",
      "2\n",
      "1 2 3 4 5\n",
      "100 11 12\n",
      "False\n"
     ]
    }
   ],
   "source": [
    "set_A = set(map(int, input().split()))\n",
    "num_of_other_sets = int(input())\n",
    "check_superset = True\n",
    "for _ in range(num_of_other_sets):\n",
    "    other_set = set(map(int, input().split()))\n",
    "    if (len(set_A.difference(other_set)) < 0) or (set_A.intersection(other_set) != other_set):\n",
    "        check_superset = False\n",
    "        break\n",
    "    else:\n",
    "        continue\n",
    "\n",
    "print(check_superset)"
   ]
  },
  {
   "cell_type": "markdown",
   "id": "fa0d1b38",
   "metadata": {},
   "source": [
    "### 12. List Comprehension"
   ]
  },
  {
   "cell_type": "code",
   "execution_count": 18,
   "id": "0bef0dd8",
   "metadata": {},
   "outputs": [
    {
     "name": "stdout",
     "output_type": "stream",
     "text": [
      "1\n",
      "1\n",
      "1\n",
      "2\n",
      "[[0, 0, 0], [0, 0, 1], [0, 1, 0], [1, 0, 0], [1, 1, 1]]\n"
     ]
    }
   ],
   "source": [
    "x = int(input())\n",
    "y = int(input())\n",
    "z = int(input())\n",
    "n = int(input())      \n",
    "                \n",
    "valid_permutations = [[i,j,k]for i in range(x+1) for j in range(y+1) for k in range(z+1) if i+j+k != n]\n",
    "print(valid_permutations)"
   ]
  },
  {
   "cell_type": "markdown",
   "id": "32f5e84e",
   "metadata": {},
   "source": [
    "### 13. Find the Runner-up score"
   ]
  },
  {
   "cell_type": "code",
   "execution_count": 20,
   "id": "c079831d",
   "metadata": {},
   "outputs": [
    {
     "name": "stdout",
     "output_type": "stream",
     "text": [
      "5\n",
      "2 3 6 6 5\n",
      "5\n"
     ]
    }
   ],
   "source": [
    "n = int(input())\n",
    "arr = map(int, input().split())\n",
    "arr = list(arr)\n",
    "#lower limit for an element is -100 for this program, so I initialize the max_num and second_max to -100\n",
    "max_num = -100\n",
    "second_max = -100\n",
    "for i in range(n):\n",
    "    if arr[i] > max_num:\n",
    "        second_max = max_num\n",
    "        max_num = arr[i]\n",
    "    elif arr[i] > second_max and arr[i] < max_num:\n",
    "        second_max = arr[i]\n",
    "\n",
    "print(second_max)"
   ]
  },
  {
   "cell_type": "markdown",
   "id": "8ad625cb",
   "metadata": {},
   "source": [
    "### 14. Finding the Percentage"
   ]
  },
  {
   "cell_type": "code",
   "execution_count": 21,
   "id": "524eab88",
   "metadata": {},
   "outputs": [
    {
     "name": "stdout",
     "output_type": "stream",
     "text": [
      "3\n",
      "Krishna 67 68 69\n",
      "Arjun 70 98 63\n",
      "Malika 52 56 60\n",
      "Malika\n",
      "56.00\n"
     ]
    }
   ],
   "source": [
    "n = int(input())\n",
    "student_marks = {}\n",
    "for _ in range(n):\n",
    "    name, *line = input().split()\n",
    "    scores = list(map(float, line))\n",
    "    student_marks[name] = scores\n",
    "query_name = input()\n",
    "print('%.2f' % (sum(student_marks[query_name])/len(student_marks[query_name])))"
   ]
  },
  {
   "cell_type": "markdown",
   "id": "fede0e86",
   "metadata": {},
   "source": [
    "### 15. Lists"
   ]
  },
  {
   "cell_type": "code",
   "execution_count": 22,
   "id": "4f9003d5",
   "metadata": {},
   "outputs": [
    {
     "name": "stdout",
     "output_type": "stream",
     "text": [
      "6\n",
      "insert 0 5\n",
      "insert 0 6\n",
      "print\n",
      "[6, 5]\n",
      "remove 6\n",
      "append 9\n",
      "pop\n"
     ]
    }
   ],
   "source": [
    "N = int(input())\n",
    "output = []\n",
    "for i in range(N):\n",
    "    line = input().split()\n",
    "    if line[0] == 'insert':\n",
    "        element = int(line[1])\n",
    "        index = int(line[2])\n",
    "        output.insert(element,index)\n",
    "    elif line[0] == 'append':\n",
    "        element = int(line[1])\n",
    "        output.append(element)\n",
    "    elif line[0] == 'print':\n",
    "        print(output)\n",
    "    elif line[0] == 'sort':\n",
    "        output.sort()\n",
    "    elif line[0] == 'remove':\n",
    "        element = int(line[1])\n",
    "        output.remove(element)\n",
    "    elif line[0] == 'pop':\n",
    "        output.pop()\n",
    "    elif line[0] == 'reverse':\n",
    "        output.reverse()"
   ]
  },
  {
   "cell_type": "markdown",
   "id": "45239b6f",
   "metadata": {},
   "source": [
    "### 16. Tuples"
   ]
  },
  {
   "cell_type": "code",
   "execution_count": null,
   "id": "d8e0bb85",
   "metadata": {},
   "outputs": [],
   "source": [
    "n = int(input())\n",
    "integer_list = map(int, input().split())\n",
    "print(hash(tuple(integer_list)))"
   ]
  },
  {
   "cell_type": "markdown",
   "id": "1c4c1751",
   "metadata": {},
   "source": [
    "### 17. No Idea!"
   ]
  },
  {
   "cell_type": "code",
   "execution_count": null,
   "id": "bfad817c",
   "metadata": {},
   "outputs": [],
   "source": [
    "n,m = map(int,input().split())\n",
    "arr = list(map(int,input().split()))\n",
    "A = list(map(int,input().split()))\n",
    "B = list(map(int,input().split()))\n",
    "happiness = 0\n",
    "for i in range(n):\n",
    "    if arr[i] in A:\n",
    "        happiness += 1\n",
    "    elif arr[i] in B:\n",
    "        happiness -= 1\n",
    "    else:\n",
    "        continue\n",
    "print(happiness)"
   ]
  },
  {
   "cell_type": "markdown",
   "id": "cd27660b",
   "metadata": {},
   "source": [
    "### 18. Set .add()"
   ]
  },
  {
   "cell_type": "code",
   "execution_count": null,
   "id": "9dbd9f81",
   "metadata": {},
   "outputs": [],
   "source": [
    "N = int(input())\n",
    "unique_stamps = set(())\n",
    "for i in range(N):\n",
    "    unique_stamps.add(input())\n",
    "print(len(unique_stamps))"
   ]
  }
 ],
 "metadata": {
  "kernelspec": {
   "display_name": "Python 3 (ipykernel)",
   "language": "python",
   "name": "python3"
  },
  "language_info": {
   "codemirror_mode": {
    "name": "ipython",
    "version": 3
   },
   "file_extension": ".py",
   "mimetype": "text/x-python",
   "name": "python",
   "nbconvert_exporter": "python",
   "pygments_lexer": "ipython3",
   "version": "3.9.13"
  }
 },
 "nbformat": 4,
 "nbformat_minor": 5
}
