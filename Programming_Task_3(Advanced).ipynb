{
 "cells": [
  {
   "cell_type": "markdown",
   "id": "24667be0",
   "metadata": {},
   "source": [
    "# Programming_Task_3(Advanced)"
   ]
  },
  {
   "cell_type": "markdown",
   "id": "715b29ba",
   "metadata": {},
   "source": [
    "### Maximum Product of Two Elements in an Array"
   ]
  },
  {
   "cell_type": "code",
   "execution_count": 2,
   "id": "588beb4c",
   "metadata": {},
   "outputs": [],
   "source": [
    "class Solution:\n",
    "    def maxProduct(self, nums: list[int]) -> int:\n",
    "        max_num = max(nums)\n",
    "        nums.remove(max_num)\n",
    "        second_max_num = max(nums)\n",
    "        return (max_num-1)*(second_max_num-1)"
   ]
  },
  {
   "cell_type": "code",
   "execution_count": 3,
   "id": "3ca6541e",
   "metadata": {},
   "outputs": [
    {
     "data": {
      "text/plain": [
       "16"
      ]
     },
     "execution_count": 3,
     "metadata": {},
     "output_type": "execute_result"
    }
   ],
   "source": [
    "sol = Solution()\n",
    "sol.maxProduct([1,5,4,5])"
   ]
  },
  {
   "cell_type": "markdown",
   "id": "cf6bab47",
   "metadata": {},
   "source": [
    "### Count Number of Teams"
   ]
  },
  {
   "cell_type": "code",
   "execution_count": 4,
   "id": "0a10bc8b",
   "metadata": {},
   "outputs": [],
   "source": [
    "class Solution:\n",
    "    def numTeams(self, rating: list[int]) -> int:\n",
    "        output = 0\n",
    "        for i in range(1,len(rating)-1):\n",
    "            x  = rating[i] \n",
    "            low_left, low_right, high_left, high_right = 0, 0, 0, 0\n",
    "            for j in range(i):\n",
    "                if rating[j]<x:\n",
    "                    low_left += 1\n",
    "                else:\n",
    "                    high_left += 1\n",
    "            for k in range(i+1,len(rating)):\n",
    "                if rating[k]<x:\n",
    "                    low_right += 1\n",
    "                else:\n",
    "                    high_right += 1\n",
    "            output += low_left*high_right + high_left*low_right\n",
    "        return output"
   ]
  },
  {
   "cell_type": "code",
   "execution_count": 5,
   "id": "cbd23ad2",
   "metadata": {},
   "outputs": [
    {
     "data": {
      "text/plain": [
       "3"
      ]
     },
     "execution_count": 5,
     "metadata": {},
     "output_type": "execute_result"
    }
   ],
   "source": [
    "sol = Solution()\n",
    "sol.numTeams([2,5,3,4,1])"
   ]
  },
  {
   "cell_type": "code",
   "execution_count": null,
   "id": "55548b8b",
   "metadata": {},
   "outputs": [],
   "source": []
  },
  {
   "cell_type": "code",
   "execution_count": 7,
   "id": "d1e0a62d",
   "metadata": {},
   "outputs": [],
   "source": [
    "class Solution:\n",
    "    def busyStudent(self, startTime: list[int], endTime: list[int], queryTime: int) -> int:\n",
    "        output = 0\n",
    "        for index in range(len(startTime)):\n",
    "            if (startTime[index] <= queryTime) and (endTime[index] >= queryTime):\n",
    "                output += 1\n",
    "        return output"
   ]
  },
  {
   "cell_type": "code",
   "execution_count": 8,
   "id": "b66241f1",
   "metadata": {},
   "outputs": [
    {
     "data": {
      "text/plain": [
       "1"
      ]
     },
     "execution_count": 8,
     "metadata": {},
     "output_type": "execute_result"
    }
   ],
   "source": [
    "sol = Solution()\n",
    "sol.busyStudent([1,2,3], [3,2,7], 4)"
   ]
  },
  {
   "cell_type": "markdown",
   "id": "6ae9caf1",
   "metadata": {},
   "source": [
    "### Number of Steps to Reduce a Number to Zero"
   ]
  },
  {
   "cell_type": "code",
   "execution_count": 11,
   "id": "08504f99",
   "metadata": {},
   "outputs": [],
   "source": [
    "class Solution:\n",
    "    def numberOfSteps(self, num: int) -> int:\n",
    "        if num==0:\n",
    "            return 0\n",
    "        elif num==1:\n",
    "            return 1\n",
    "        elif num == 2:\n",
    "            return 2\n",
    "        elif num%2==0:\n",
    "            output = self.numberOfSteps(num/2) + 1\n",
    "            return output\n",
    "        elif num%2!=0:\n",
    "            output = self.numberOfSteps(num-1) + 1\n",
    "            return output\n",
    "        "
   ]
  },
  {
   "cell_type": "code",
   "execution_count": 13,
   "id": "bf601bcf",
   "metadata": {},
   "outputs": [
    {
     "data": {
      "text/plain": [
       "6"
      ]
     },
     "execution_count": 13,
     "metadata": {},
     "output_type": "execute_result"
    }
   ],
   "source": [
    "sol = Solution()\n",
    "sol.numberOfSteps(14)"
   ]
  },
  {
   "cell_type": "markdown",
   "id": "4a534cb4",
   "metadata": {},
   "source": [
    "### Counting Bits"
   ]
  },
  {
   "cell_type": "code",
   "execution_count": 14,
   "id": "4ec2bb09",
   "metadata": {},
   "outputs": [],
   "source": [
    "class Solution:\n",
    "    def countBits(self, n: int) -> list[int]:\n",
    "        output = []\n",
    "\n",
    "        for i in range(n+1):\n",
    "            output.append(self.get_binary_ones_count(i))\n",
    "        \n",
    "        return output\n",
    "    \n",
    "    def get_binary_ones_count(self, num: int) -> int:\n",
    "        if num == 0:\n",
    "            return 0\n",
    "        elif num == 1:\n",
    "            return 1\n",
    "        elif num%2==0:\n",
    "            return self.get_binary_ones_count(num//2)\n",
    "        elif num%2!=0:\n",
    "            return self.get_binary_ones_count(num//2) + 1\n"
   ]
  },
  {
   "cell_type": "code",
   "execution_count": 15,
   "id": "4a667866",
   "metadata": {},
   "outputs": [
    {
     "data": {
      "text/plain": [
       "[0, 1, 1, 2, 1, 2]"
      ]
     },
     "execution_count": 15,
     "metadata": {},
     "output_type": "execute_result"
    }
   ],
   "source": [
    "sol = Solution()\n",
    "sol.countBits(5)"
   ]
  },
  {
   "cell_type": "code",
   "execution_count": null,
   "id": "cf55b064",
   "metadata": {},
   "outputs": [],
   "source": []
  }
 ],
 "metadata": {
  "kernelspec": {
   "display_name": "Python 3 (ipykernel)",
   "language": "python",
   "name": "python3"
  },
  "language_info": {
   "codemirror_mode": {
    "name": "ipython",
    "version": 3
   },
   "file_extension": ".py",
   "mimetype": "text/x-python",
   "name": "python",
   "nbconvert_exporter": "python",
   "pygments_lexer": "ipython3",
   "version": "3.9.13"
  }
 },
 "nbformat": 4,
 "nbformat_minor": 5
}
