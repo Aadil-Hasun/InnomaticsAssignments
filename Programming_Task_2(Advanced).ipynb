{
 "cells": [
  {
   "cell_type": "markdown",
   "id": "6afec5c4",
   "metadata": {},
   "source": [
    "# Programming_Task_2(Advanced)"
   ]
  },
  {
   "cell_type": "markdown",
   "id": "2cf8cf97",
   "metadata": {},
   "source": [
    "### Defanging an IP Address"
   ]
  },
  {
   "cell_type": "code",
   "execution_count": 1,
   "id": "f4fccb67",
   "metadata": {},
   "outputs": [],
   "source": [
    "class Solution:\n",
    "    def defangIPaddr(self, address: str) -> str:\n",
    "        index = 0\n",
    "        while index < len(address):\n",
    "            if address[index] == '.':\n",
    "                address = address[:index] + '[.]' + address[index+1:]\n",
    "                index += 3\n",
    "            else:\n",
    "                index += 1\n",
    "        #address = address.replace('.', '[.]')\n",
    "        return address"
   ]
  },
  {
   "cell_type": "code",
   "execution_count": 2,
   "id": "4b90e01a",
   "metadata": {},
   "outputs": [
    {
     "data": {
      "text/plain": [
       "'1[.]1[.]1[.]1'"
      ]
     },
     "execution_count": 2,
     "metadata": {},
     "output_type": "execute_result"
    }
   ],
   "source": [
    "sol = Solution()\n",
    "sol.defangIPaddr('1.1.1.1')"
   ]
  },
  {
   "cell_type": "markdown",
   "id": "392a8ab5",
   "metadata": {},
   "source": [
    "### 2. Find Numbers with Even Number of Digits"
   ]
  },
  {
   "cell_type": "code",
   "execution_count": 4,
   "id": "76962d34",
   "metadata": {},
   "outputs": [],
   "source": [
    "class Solution:\n",
    "    def findNumbers(self, nums: list[int]) -> int:\n",
    "        count = 0\n",
    "        for element in nums:\n",
    "            if len(str(element))%2 == 0:\n",
    "                count += 1\n",
    "            else:\n",
    "                continue\n",
    "\n",
    "        return count"
   ]
  },
  {
   "cell_type": "code",
   "execution_count": 5,
   "id": "67a20671",
   "metadata": {},
   "outputs": [
    {
     "data": {
      "text/plain": [
       "2"
      ]
     },
     "execution_count": 5,
     "metadata": {},
     "output_type": "execute_result"
    }
   ],
   "source": [
    "sol = Solution()\n",
    "sol.findNumbers([12,345,2,6,7896])"
   ]
  },
  {
   "cell_type": "markdown",
   "id": "96362d39",
   "metadata": {},
   "source": [
    "### 3. Number of Good Pairs"
   ]
  },
  {
   "cell_type": "code",
   "execution_count": 7,
   "id": "3511ad87",
   "metadata": {},
   "outputs": [],
   "source": [
    "class Solution:\n",
    "    def numIdenticalPairs(self, nums: list[int]) -> int:\n",
    "        if len(nums) == len(set(nums)):\n",
    "            return 0\n",
    "        else:\n",
    "            nums_count_dict = {}\n",
    "            num_of_good_pairs = 0\n",
    "            for element in nums:\n",
    "                if element in nums_count_dict:\n",
    "                    num_of_good_pairs += nums_count_dict[element]\n",
    "                    nums_count_dict[element] += 1\n",
    "                else:\n",
    "                    nums_count_dict[element] = 1\n",
    "            return num_of_good_pairs "
   ]
  },
  {
   "cell_type": "code",
   "execution_count": 8,
   "id": "be2d0953",
   "metadata": {},
   "outputs": [
    {
     "data": {
      "text/plain": [
       "4"
      ]
     },
     "execution_count": 8,
     "metadata": {},
     "output_type": "execute_result"
    }
   ],
   "source": [
    "sol = Solution()\n",
    "sol.numIdenticalPairs([1,2,3,1,1,3])"
   ]
  },
  {
   "cell_type": "markdown",
   "id": "db8cf867",
   "metadata": {},
   "source": [
    "### How Many Numbers Are Smaller Than the Current Number"
   ]
  },
  {
   "cell_type": "code",
   "execution_count": 11,
   "id": "71558858",
   "metadata": {},
   "outputs": [],
   "source": [
    "class Solution:\n",
    "    def smallerNumbersThanCurrent(self, nums: list[int]) -> list[int]:\n",
    "        result = []\n",
    "        for i in range(len(nums)):\n",
    "            count = 0\n",
    "            for j in range(len(nums)-1,-1, -1):\n",
    "                if (nums[i] > nums[j]) and (i!=j):\n",
    "                    count += 1\n",
    "            result.append(count)\n",
    "        return result"
   ]
  },
  {
   "cell_type": "code",
   "execution_count": 12,
   "id": "6a0219f4",
   "metadata": {},
   "outputs": [
    {
     "data": {
      "text/plain": [
       "[4, 0, 1, 1, 3]"
      ]
     },
     "execution_count": 12,
     "metadata": {},
     "output_type": "execute_result"
    }
   ],
   "source": [
    "sol = Solution()\n",
    "sol.smallerNumbersThanCurrent([8,1,2,2,3])"
   ]
  },
  {
   "cell_type": "markdown",
   "id": "6923847a",
   "metadata": {},
   "source": [
    "### Subtract the Product and Sum of Digits of an Integer"
   ]
  },
  {
   "cell_type": "code",
   "execution_count": 13,
   "id": "b5848082",
   "metadata": {},
   "outputs": [],
   "source": [
    "class Solution:\n",
    "    def subtractProductAndSum(self, n: int) -> int:\n",
    "        prod_of_digits = 1\n",
    "        sum_of_digits = 0\n",
    "        temp = n\n",
    "        while temp != 0:\n",
    "            digit = temp%10\n",
    "            prod_of_digits *= digit\n",
    "            sum_of_digits += digit\n",
    "            temp //= 10\n",
    "\n",
    "        return (prod_of_digits - sum_of_digits)"
   ]
  },
  {
   "cell_type": "code",
   "execution_count": 14,
   "id": "5331cfa2",
   "metadata": {},
   "outputs": [
    {
     "data": {
      "text/plain": [
       "15"
      ]
     },
     "execution_count": 14,
     "metadata": {},
     "output_type": "execute_result"
    }
   ],
   "source": [
    "sol = Solution()\n",
    "sol.subtractProductAndSum(234)"
   ]
  },
  {
   "cell_type": "markdown",
   "id": "5fc9faa8",
   "metadata": {},
   "source": [
    "### XOR Operation in an array"
   ]
  },
  {
   "cell_type": "code",
   "execution_count": 16,
   "id": "5cd3c6d1",
   "metadata": {},
   "outputs": [],
   "source": [
    "class Solution:\n",
    "    def xorOperation(self, n: int, start: int) -> int:\n",
    "        result = 0\n",
    "        for element in range(start,start+2*n, 2):\n",
    "            result ^= element\n",
    "\n",
    "        return result"
   ]
  },
  {
   "cell_type": "code",
   "execution_count": 17,
   "id": "346e4b33",
   "metadata": {},
   "outputs": [
    {
     "data": {
      "text/plain": [
       "3"
      ]
     },
     "execution_count": 17,
     "metadata": {},
     "output_type": "execute_result"
    }
   ],
   "source": [
    "sol = Solution()\n",
    "sol.xorOperation(5,3)"
   ]
  },
  {
   "cell_type": "code",
   "execution_count": null,
   "id": "2ac01d35",
   "metadata": {},
   "outputs": [],
   "source": []
  }
 ],
 "metadata": {
  "kernelspec": {
   "display_name": "Python 3 (ipykernel)",
   "language": "python",
   "name": "python3"
  },
  "language_info": {
   "codemirror_mode": {
    "name": "ipython",
    "version": 3
   },
   "file_extension": ".py",
   "mimetype": "text/x-python",
   "name": "python",
   "nbconvert_exporter": "python",
   "pygments_lexer": "ipython3",
   "version": "3.9.13"
  }
 },
 "nbformat": 4,
 "nbformat_minor": 5
}
