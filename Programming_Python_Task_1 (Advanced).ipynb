{
 "cells": [
  {
   "cell_type": "markdown",
   "id": "528ab91d",
   "metadata": {},
   "source": [
    "# Programming Task - 1 (For Advance Python Programmers)"
   ]
  },
  {
   "cell_type": "markdown",
   "id": "94580e10",
   "metadata": {},
   "source": [
    "### Running Sum of 1d Array"
   ]
  },
  {
   "cell_type": "code",
   "execution_count": 2,
   "id": "98826e01",
   "metadata": {},
   "outputs": [],
   "source": [
    "class Solution:\n",
    "    def runningSum(self, nums: list[int]) -> list[int]:\n",
    "        running_sum = []\n",
    "        running_sum.append(nums[0])\n",
    "        for index in range(1, len(nums)):\n",
    "            running_sum.append(running_sum[index-1] + nums[index])\n",
    "        \n",
    "        return running_sum\n",
    "    \n"
   ]
  },
  {
   "cell_type": "code",
   "execution_count": 3,
   "id": "7edcee8b",
   "metadata": {},
   "outputs": [
    {
     "data": {
      "text/plain": [
       "[1, 2, 3, 4, 5]"
      ]
     },
     "execution_count": 3,
     "metadata": {},
     "output_type": "execute_result"
    }
   ],
   "source": [
    "sol = Solution()\n",
    "sol.runningSum([1, 1, 1, 1, 1])"
   ]
  },
  {
   "cell_type": "markdown",
   "id": "4af8091f",
   "metadata": {},
   "source": [
    "### Shuffle the Array"
   ]
  },
  {
   "cell_type": "code",
   "execution_count": 5,
   "id": "af1621a6",
   "metadata": {},
   "outputs": [],
   "source": [
    "class Solution:\n",
    "    def shuffle(self, nums: list[int], n: int) -> list[int]:\n",
    "        shuffled_list = []\n",
    "        y_index = n\n",
    "        for x_index in range(n):\n",
    "            shuffled_list.append(nums[x_index])\n",
    "            shuffled_list.append(nums[y_index])\n",
    "            y_index += 1\n",
    "        \n",
    "        return shuffled_list"
   ]
  },
  {
   "cell_type": "code",
   "execution_count": 6,
   "id": "36d40163",
   "metadata": {},
   "outputs": [
    {
     "data": {
      "text/plain": [
       "[9, 7, 8, 6, 3, 11]"
      ]
     },
     "execution_count": 6,
     "metadata": {},
     "output_type": "execute_result"
    }
   ],
   "source": [
    "sol = Solution()\n",
    "sol.shuffle([9, 8, 3, 7, 6, 11], 3)"
   ]
  },
  {
   "cell_type": "markdown",
   "id": "244f9e1a",
   "metadata": {},
   "source": [
    "### Kids With the Greatest Number of Candies"
   ]
  },
  {
   "cell_type": "code",
   "execution_count": 7,
   "id": "77516ae5",
   "metadata": {},
   "outputs": [],
   "source": [
    "class Solution:\n",
    "    def kidsWithCandies(self, candies: list[int], extraCandies: int) -> list[bool]:\n",
    "        result = []\n",
    "        max_candies = max(candies)\n",
    "        for index in range(len(candies)):\n",
    "            if candies[index] + extraCandies >= max_candies:\n",
    "                result.append(True)\n",
    "            else:\n",
    "                result.append(False)\n",
    "        \n",
    "        return result"
   ]
  },
  {
   "cell_type": "code",
   "execution_count": 8,
   "id": "ecdd478c",
   "metadata": {},
   "outputs": [
    {
     "data": {
      "text/plain": [
       "[True, True, False, False, False, True]"
      ]
     },
     "execution_count": 8,
     "metadata": {},
     "output_type": "execute_result"
    }
   ],
   "source": [
    "sol = Solution()\n",
    "sol.kidsWithCandies([9, 8, 3, 7, 6, 11], 3)"
   ]
  },
  {
   "cell_type": "code",
   "execution_count": null,
   "id": "f3ef4cae",
   "metadata": {},
   "outputs": [],
   "source": []
  }
 ],
 "metadata": {
  "kernelspec": {
   "display_name": "Python 3 (ipykernel)",
   "language": "python",
   "name": "python3"
  },
  "language_info": {
   "codemirror_mode": {
    "name": "ipython",
    "version": 3
   },
   "file_extension": ".py",
   "mimetype": "text/x-python",
   "name": "python",
   "nbconvert_exporter": "python",
   "pygments_lexer": "ipython3",
   "version": "3.9.13"
  }
 },
 "nbformat": 4,
 "nbformat_minor": 5
}
